{
 "cells": [
  {
   "cell_type": "markdown",
   "id": "ab430c70-f5df-476f-a593-167b6652c45c",
   "metadata": {},
   "source": [
    "# Predict the Cost of Homes in California Using Numpy + Pandas in Jupyter (with Pipelines)"
   ]
  },
  {
   "cell_type": "markdown",
   "id": "9b7b4b61-5503-4727-af4b-72153f2301c9",
   "metadata": {},
   "source": [
    "This notebook trains a machine learning model that predicts home costs in California.\n",
    "\n",
    "The overall objective is to predict the value of home prices using **9 feature variables and 1 target variable:** \n",
    "\n",
    "#### **Feature Variables** ####\n",
    "\n",
    "1.  **longitude:** A measure of how far west a house is (a higher value is farther west)\n",
    "2.  **latitude:** A measure of how far north a house is (a higher value is farther north)\n",
    "3.  **housingMedianAge:** Median age of a house within a block (a lower number is a newer building)\n",
    "4.  **totalRooms:** Total number of rooms within a block\n",
    "5.  **totalBedrooms:** Total number of bedrooms within a block\n",
    "6.  **population:** Total number of people residing within a block\n",
    "7.  **households:** Total number of households, a group of people residing within a home unit, for a block\n",
    "8.  **medianIncome:** Median income for households within a block of houses (measured in tens of thousands of US Dollars)\n",
    "9.  **oceanProximity:** Location of the house in proximity to the ocean\n",
    "\n",
    "#### **Target Variable** ####\n",
    "1.  **medianHouseValue:** Median house value for households within a block (measured in US Dollars)"
   ]
  },
  {
   "cell_type": "markdown",
   "id": "f64a0504-dce2-43fd-bcff-424b66396066",
   "metadata": {},
   "source": [
    "## Background"
   ]
  },
  {
   "cell_type": "markdown",
   "id": "aa8d65be-bbbc-4596-91ff-7a8f1031f143",
   "metadata": {},
   "source": [
    "## Scikit-learn\n",
    "\n",
    "Scikit-learn is a machine learning library for the Python programming language. It features various classification, regression and clustering learning algorithms. \n",
    "\n",
    "## Dependencies\n",
    "\n",
    "- pandas - To work with solid data-structures, n-dimensional matrices and perform exploratory data analysis.\n",
    "- matplotlib - To visualize data using 2D plots.\n",
    "- seaborn - To make 2D plots look pretty and readable.\n",
    "- scikit-learn - To create machine learning models easily and make predictions.\n",
    "- numpy - To work with arrays."
   ]
  },
  {
   "cell_type": "markdown",
   "id": "ad6f3574-f270-4be7-af64-35dce51c8d58",
   "metadata": {},
   "source": [
    "**A few things to note:**\n",
    "\n",
    "- You'll need to install the various libraries before importing them ```(i.e. %pip install pandas)```\n",
    "- You may need to restart the kernel to use updated packages."
   ]
  },
  {
   "cell_type": "markdown",
   "id": "63d53467-01c6-460b-89bb-465b90073944",
   "metadata": {},
   "source": [
    "# Obtain & Load Data"
   ]
  },
  {
   "cell_type": "code",
   "execution_count": 3,
   "id": "19d52d8a-e1f9-4bdc-b809-a4664e224528",
   "metadata": {},
   "outputs": [
    {
     "name": "stdout",
     "output_type": "stream",
     "text": [
      "Collecting xgboostNote: you may need to restart the kernel to use updated packages.\n",
      "\n",
      "  Downloading xgboost-3.0.5-py3-none-win_amd64.whl.metadata (2.1 kB)\n",
      "Requirement already satisfied: numpy in c:\\users\\mercu\\anaconda3\\lib\\site-packages (from xgboost) (1.26.4)\n",
      "Requirement already satisfied: scipy in c:\\users\\mercu\\anaconda3\\lib\\site-packages (from xgboost) (1.13.1)\n",
      "Downloading xgboost-3.0.5-py3-none-win_amd64.whl (56.8 MB)\n",
      "   ---------------------------------------- 0.0/56.8 MB ? eta -:--:--\n",
      "   - -------------------------------------- 1.6/56.8 MB 10.5 MB/s eta 0:00:06\n",
      "   -- ------------------------------------- 3.4/56.8 MB 9.2 MB/s eta 0:00:06\n",
      "   --- ------------------------------------ 4.5/56.8 MB 8.4 MB/s eta 0:00:07\n",
      "   ---- ----------------------------------- 6.8/56.8 MB 8.7 MB/s eta 0:00:06\n",
      "   ------ --------------------------------- 9.2/56.8 MB 9.4 MB/s eta 0:00:06\n",
      "   -------- ------------------------------- 11.5/56.8 MB 9.8 MB/s eta 0:00:05\n",
      "   --------- ------------------------------ 13.6/56.8 MB 10.0 MB/s eta 0:00:05\n",
      "   ----------- ---------------------------- 15.7/56.8 MB 10.0 MB/s eta 0:00:05\n",
      "   ------------ --------------------------- 17.6/56.8 MB 9.9 MB/s eta 0:00:04\n",
      "   -------------- ------------------------- 20.2/56.8 MB 10.0 MB/s eta 0:00:04\n",
      "   --------------- ------------------------ 22.3/56.8 MB 10.1 MB/s eta 0:00:04\n",
      "   ----------------- ---------------------- 24.6/56.8 MB 10.2 MB/s eta 0:00:04\n",
      "   ------------------- -------------------- 27.3/56.8 MB 10.3 MB/s eta 0:00:03\n",
      "   -------------------- ------------------- 29.4/56.8 MB 10.3 MB/s eta 0:00:03\n",
      "   ---------------------- ----------------- 31.5/56.8 MB 10.3 MB/s eta 0:00:03\n",
      "   ----------------------- ---------------- 33.8/56.8 MB 10.4 MB/s eta 0:00:03\n",
      "   ------------------------- -------------- 35.9/56.8 MB 10.4 MB/s eta 0:00:03\n",
      "   -------------------------- ------------- 38.0/56.8 MB 10.4 MB/s eta 0:00:02\n",
      "   ---------------------------- ----------- 40.4/56.8 MB 10.4 MB/s eta 0:00:02\n",
      "   ----------------------------- ---------- 42.5/56.8 MB 10.5 MB/s eta 0:00:02\n",
      "   ------------------------------- -------- 44.8/56.8 MB 10.5 MB/s eta 0:00:02\n",
      "   --------------------------------- ------ 46.9/56.8 MB 10.5 MB/s eta 0:00:01\n",
      "   ---------------------------------- ----- 49.0/56.8 MB 10.5 MB/s eta 0:00:01\n",
      "   ------------------------------------ --- 51.4/56.8 MB 10.5 MB/s eta 0:00:01\n",
      "   ------------------------------------- -- 53.7/56.8 MB 10.6 MB/s eta 0:00:01\n",
      "   ---------------------------------------  55.6/56.8 MB 10.5 MB/s eta 0:00:01\n",
      "   ---------------------------------------- 56.8/56.8 MB 10.3 MB/s eta 0:00:00\n",
      "Installing collected packages: xgboost\n",
      "Successfully installed xgboost-3.0.5\n"
     ]
    }
   ],
   "source": [
    "# Install required packages\n",
    "%pip install xgboost\n",
    "\n",
    "import pandas as pd\n",
    "import seaborn as sns \n",
    "\n",
    "import matplotlib.pyplot as plt\n",
    "%matplotlib inline\n",
    "\n",
    "import numpy as np"
   ]
  },
  {
   "cell_type": "code",
   "execution_count": 4,
   "id": "a3453354-a698-44a5-9059-e2e409bea7d2",
   "metadata": {},
   "outputs": [
    {
     "name": "stdout",
     "output_type": "stream",
     "text": [
      "<class 'pandas.core.frame.DataFrame'>\n",
      "RangeIndex: 20640 entries, 0 to 20639\n",
      "Data columns (total 10 columns):\n",
      " #   Column              Non-Null Count  Dtype  \n",
      "---  ------              --------------  -----  \n",
      " 0   longitude           20640 non-null  float64\n",
      " 1   latitude            20640 non-null  float64\n",
      " 2   housing_median_age  20640 non-null  float64\n",
      " 3   total_rooms         20640 non-null  float64\n",
      " 4   total_bedrooms      20433 non-null  float64\n",
      " 5   population          20640 non-null  float64\n",
      " 6   households          20640 non-null  float64\n",
      " 7   median_income       20640 non-null  float64\n",
      " 8   median_house_value  20640 non-null  float64\n",
      " 9   ocean_proximity     20640 non-null  object \n",
      "dtypes: float64(9), object(1)\n",
      "memory usage: 1.6+ MB\n"
     ]
    }
   ],
   "source": [
    "# Read in the data with read_csv() into a Pandas Dataframe\n",
    "housing_df = pd.read_csv('housing.csv')\n",
    "\n",
    "# Use .info() to show the features (i.e. columns) in your dataset along with a count and datatype\n",
    "housing_df.info()"
   ]
  },
  {
   "cell_type": "code",
   "execution_count": 5,
   "id": "33a2e4b4-a6a3-493f-948e-516fe84e2462",
   "metadata": {},
   "outputs": [
    {
     "data": {
      "text/plain": [
       "(20640, 10)"
      ]
     },
     "execution_count": 5,
     "metadata": {},
     "output_type": "execute_result"
    }
   ],
   "source": [
    "# Use .shape to understand how many observations (ie rows/records) of the dataset\n",
    "# The shape of a DataFrame is a tuple of array dimensions that tells the number of rows and columns of a given DataFrame.\n",
    "# (row count, column count)\n",
    "housing_df.shape"
   ]
  },
  {
   "cell_type": "code",
   "execution_count": 6,
   "id": "27bd7e20-ddaf-4f24-bc72-fa3abcaf1a03",
   "metadata": {},
   "outputs": [
    {
     "data": {
      "text/html": [
       "<div>\n",
       "<style scoped>\n",
       "    .dataframe tbody tr th:only-of-type {\n",
       "        vertical-align: middle;\n",
       "    }\n",
       "\n",
       "    .dataframe tbody tr th {\n",
       "        vertical-align: top;\n",
       "    }\n",
       "\n",
       "    .dataframe thead th {\n",
       "        text-align: right;\n",
       "    }\n",
       "</style>\n",
       "<table border=\"1\" class=\"dataframe\">\n",
       "  <thead>\n",
       "    <tr style=\"text-align: right;\">\n",
       "      <th></th>\n",
       "      <th>longitude</th>\n",
       "      <th>latitude</th>\n",
       "      <th>housing_median_age</th>\n",
       "      <th>total_rooms</th>\n",
       "      <th>total_bedrooms</th>\n",
       "      <th>population</th>\n",
       "      <th>households</th>\n",
       "      <th>median_income</th>\n",
       "      <th>median_house_value</th>\n",
       "      <th>ocean_proximity</th>\n",
       "    </tr>\n",
       "  </thead>\n",
       "  <tbody>\n",
       "    <tr>\n",
       "      <th>0</th>\n",
       "      <td>-122.23</td>\n",
       "      <td>37.88</td>\n",
       "      <td>41.0</td>\n",
       "      <td>880.0</td>\n",
       "      <td>129.0</td>\n",
       "      <td>322.0</td>\n",
       "      <td>126.0</td>\n",
       "      <td>8.3252</td>\n",
       "      <td>452600.0</td>\n",
       "      <td>NEAR BAY</td>\n",
       "    </tr>\n",
       "    <tr>\n",
       "      <th>1</th>\n",
       "      <td>-122.22</td>\n",
       "      <td>37.86</td>\n",
       "      <td>21.0</td>\n",
       "      <td>7099.0</td>\n",
       "      <td>1106.0</td>\n",
       "      <td>2401.0</td>\n",
       "      <td>1138.0</td>\n",
       "      <td>8.3014</td>\n",
       "      <td>358500.0</td>\n",
       "      <td>NEAR BAY</td>\n",
       "    </tr>\n",
       "    <tr>\n",
       "      <th>2</th>\n",
       "      <td>-122.24</td>\n",
       "      <td>37.85</td>\n",
       "      <td>52.0</td>\n",
       "      <td>1467.0</td>\n",
       "      <td>190.0</td>\n",
       "      <td>496.0</td>\n",
       "      <td>177.0</td>\n",
       "      <td>7.2574</td>\n",
       "      <td>352100.0</td>\n",
       "      <td>NEAR BAY</td>\n",
       "    </tr>\n",
       "    <tr>\n",
       "      <th>3</th>\n",
       "      <td>-122.25</td>\n",
       "      <td>37.85</td>\n",
       "      <td>52.0</td>\n",
       "      <td>1274.0</td>\n",
       "      <td>235.0</td>\n",
       "      <td>558.0</td>\n",
       "      <td>219.0</td>\n",
       "      <td>5.6431</td>\n",
       "      <td>341300.0</td>\n",
       "      <td>NEAR BAY</td>\n",
       "    </tr>\n",
       "    <tr>\n",
       "      <th>4</th>\n",
       "      <td>-122.25</td>\n",
       "      <td>37.85</td>\n",
       "      <td>52.0</td>\n",
       "      <td>1627.0</td>\n",
       "      <td>280.0</td>\n",
       "      <td>565.0</td>\n",
       "      <td>259.0</td>\n",
       "      <td>3.8462</td>\n",
       "      <td>342200.0</td>\n",
       "      <td>NEAR BAY</td>\n",
       "    </tr>\n",
       "  </tbody>\n",
       "</table>\n",
       "</div>"
      ],
      "text/plain": [
       "   longitude  latitude  housing_median_age  total_rooms  total_bedrooms  \\\n",
       "0    -122.23     37.88                41.0        880.0           129.0   \n",
       "1    -122.22     37.86                21.0       7099.0          1106.0   \n",
       "2    -122.24     37.85                52.0       1467.0           190.0   \n",
       "3    -122.25     37.85                52.0       1274.0           235.0   \n",
       "4    -122.25     37.85                52.0       1627.0           280.0   \n",
       "\n",
       "   population  households  median_income  median_house_value ocean_proximity  \n",
       "0       322.0       126.0         8.3252            452600.0        NEAR BAY  \n",
       "1      2401.0      1138.0         8.3014            358500.0        NEAR BAY  \n",
       "2       496.0       177.0         7.2574            352100.0        NEAR BAY  \n",
       "3       558.0       219.0         5.6431            341300.0        NEAR BAY  \n",
       "4       565.0       259.0         3.8462            342200.0        NEAR BAY  "
      ]
     },
     "execution_count": 6,
     "metadata": {},
     "output_type": "execute_result"
    }
   ],
   "source": [
    "# Using .head() function to view the first few observations (i.e. rows/records) of the dataset \n",
    "housing_df.head()"
   ]
  },
  {
   "cell_type": "code",
   "execution_count": 7,
   "id": "5940a3d5-7356-498b-95d4-6b7d4873216f",
   "metadata": {},
   "outputs": [
    {
     "data": {
      "text/html": [
       "<div>\n",
       "<style scoped>\n",
       "    .dataframe tbody tr th:only-of-type {\n",
       "        vertical-align: middle;\n",
       "    }\n",
       "\n",
       "    .dataframe tbody tr th {\n",
       "        vertical-align: top;\n",
       "    }\n",
       "\n",
       "    .dataframe thead th {\n",
       "        text-align: right;\n",
       "    }\n",
       "</style>\n",
       "<table border=\"1\" class=\"dataframe\">\n",
       "  <thead>\n",
       "    <tr style=\"text-align: right;\">\n",
       "      <th></th>\n",
       "      <th>longitude</th>\n",
       "      <th>latitude</th>\n",
       "      <th>housing_median_age</th>\n",
       "      <th>total_rooms</th>\n",
       "      <th>total_bedrooms</th>\n",
       "      <th>population</th>\n",
       "      <th>households</th>\n",
       "      <th>median_income</th>\n",
       "      <th>median_house_value</th>\n",
       "      <th>ocean_proximity</th>\n",
       "    </tr>\n",
       "  </thead>\n",
       "  <tbody>\n",
       "    <tr>\n",
       "      <th>20635</th>\n",
       "      <td>-121.09</td>\n",
       "      <td>39.48</td>\n",
       "      <td>25.0</td>\n",
       "      <td>1665.0</td>\n",
       "      <td>374.0</td>\n",
       "      <td>845.0</td>\n",
       "      <td>330.0</td>\n",
       "      <td>1.5603</td>\n",
       "      <td>78100.0</td>\n",
       "      <td>INLAND</td>\n",
       "    </tr>\n",
       "    <tr>\n",
       "      <th>20636</th>\n",
       "      <td>-121.21</td>\n",
       "      <td>39.49</td>\n",
       "      <td>18.0</td>\n",
       "      <td>697.0</td>\n",
       "      <td>150.0</td>\n",
       "      <td>356.0</td>\n",
       "      <td>114.0</td>\n",
       "      <td>2.5568</td>\n",
       "      <td>77100.0</td>\n",
       "      <td>INLAND</td>\n",
       "    </tr>\n",
       "    <tr>\n",
       "      <th>20637</th>\n",
       "      <td>-121.22</td>\n",
       "      <td>39.43</td>\n",
       "      <td>17.0</td>\n",
       "      <td>2254.0</td>\n",
       "      <td>485.0</td>\n",
       "      <td>1007.0</td>\n",
       "      <td>433.0</td>\n",
       "      <td>1.7000</td>\n",
       "      <td>92300.0</td>\n",
       "      <td>INLAND</td>\n",
       "    </tr>\n",
       "    <tr>\n",
       "      <th>20638</th>\n",
       "      <td>-121.32</td>\n",
       "      <td>39.43</td>\n",
       "      <td>18.0</td>\n",
       "      <td>1860.0</td>\n",
       "      <td>409.0</td>\n",
       "      <td>741.0</td>\n",
       "      <td>349.0</td>\n",
       "      <td>1.8672</td>\n",
       "      <td>84700.0</td>\n",
       "      <td>INLAND</td>\n",
       "    </tr>\n",
       "    <tr>\n",
       "      <th>20639</th>\n",
       "      <td>-121.24</td>\n",
       "      <td>39.37</td>\n",
       "      <td>16.0</td>\n",
       "      <td>2785.0</td>\n",
       "      <td>616.0</td>\n",
       "      <td>1387.0</td>\n",
       "      <td>530.0</td>\n",
       "      <td>2.3886</td>\n",
       "      <td>89400.0</td>\n",
       "      <td>INLAND</td>\n",
       "    </tr>\n",
       "  </tbody>\n",
       "</table>\n",
       "</div>"
      ],
      "text/plain": [
       "       longitude  latitude  housing_median_age  total_rooms  total_bedrooms  \\\n",
       "20635    -121.09     39.48                25.0       1665.0           374.0   \n",
       "20636    -121.21     39.49                18.0        697.0           150.0   \n",
       "20637    -121.22     39.43                17.0       2254.0           485.0   \n",
       "20638    -121.32     39.43                18.0       1860.0           409.0   \n",
       "20639    -121.24     39.37                16.0       2785.0           616.0   \n",
       "\n",
       "       population  households  median_income  median_house_value  \\\n",
       "20635       845.0       330.0         1.5603             78100.0   \n",
       "20636       356.0       114.0         2.5568             77100.0   \n",
       "20637      1007.0       433.0         1.7000             92300.0   \n",
       "20638       741.0       349.0         1.8672             84700.0   \n",
       "20639      1387.0       530.0         2.3886             89400.0   \n",
       "\n",
       "      ocean_proximity  \n",
       "20635          INLAND  \n",
       "20636          INLAND  \n",
       "20637          INLAND  \n",
       "20638          INLAND  \n",
       "20639          INLAND  "
      ]
     },
     "execution_count": 7,
     "metadata": {},
     "output_type": "execute_result"
    }
   ],
   "source": [
    "# Using .tail() function to view the last few observations (i.e. records) of the dataset \n",
    "housing_df.tail()"
   ]
  },
  {
   "cell_type": "code",
   "execution_count": 8,
   "id": "c24ac416-9b05-4ae5-89b2-3b51d42c21f3",
   "metadata": {},
   "outputs": [
    {
     "data": {
      "text/html": [
       "<div>\n",
       "<style scoped>\n",
       "    .dataframe tbody tr th:only-of-type {\n",
       "        vertical-align: middle;\n",
       "    }\n",
       "\n",
       "    .dataframe tbody tr th {\n",
       "        vertical-align: top;\n",
       "    }\n",
       "\n",
       "    .dataframe thead th {\n",
       "        text-align: right;\n",
       "    }\n",
       "</style>\n",
       "<table border=\"1\" class=\"dataframe\">\n",
       "  <thead>\n",
       "    <tr style=\"text-align: right;\">\n",
       "      <th></th>\n",
       "      <th>longitude</th>\n",
       "      <th>latitude</th>\n",
       "      <th>housing_median_age</th>\n",
       "      <th>total_rooms</th>\n",
       "      <th>total_bedrooms</th>\n",
       "      <th>population</th>\n",
       "      <th>households</th>\n",
       "      <th>median_income</th>\n",
       "      <th>median_house_value</th>\n",
       "    </tr>\n",
       "  </thead>\n",
       "  <tbody>\n",
       "    <tr>\n",
       "      <th>count</th>\n",
       "      <td>20640.000000</td>\n",
       "      <td>20640.000000</td>\n",
       "      <td>20640.000000</td>\n",
       "      <td>20640.000000</td>\n",
       "      <td>20433.000000</td>\n",
       "      <td>20640.000000</td>\n",
       "      <td>20640.000000</td>\n",
       "      <td>20640.000000</td>\n",
       "      <td>20640.000000</td>\n",
       "    </tr>\n",
       "    <tr>\n",
       "      <th>mean</th>\n",
       "      <td>-119.569704</td>\n",
       "      <td>35.631861</td>\n",
       "      <td>28.639486</td>\n",
       "      <td>2635.763081</td>\n",
       "      <td>537.870553</td>\n",
       "      <td>1425.476744</td>\n",
       "      <td>499.539680</td>\n",
       "      <td>3.870671</td>\n",
       "      <td>206855.816909</td>\n",
       "    </tr>\n",
       "    <tr>\n",
       "      <th>std</th>\n",
       "      <td>2.003532</td>\n",
       "      <td>2.135952</td>\n",
       "      <td>12.585558</td>\n",
       "      <td>2181.615252</td>\n",
       "      <td>421.385070</td>\n",
       "      <td>1132.462122</td>\n",
       "      <td>382.329753</td>\n",
       "      <td>1.899822</td>\n",
       "      <td>115395.615874</td>\n",
       "    </tr>\n",
       "    <tr>\n",
       "      <th>min</th>\n",
       "      <td>-124.350000</td>\n",
       "      <td>32.540000</td>\n",
       "      <td>1.000000</td>\n",
       "      <td>2.000000</td>\n",
       "      <td>1.000000</td>\n",
       "      <td>3.000000</td>\n",
       "      <td>1.000000</td>\n",
       "      <td>0.499900</td>\n",
       "      <td>14999.000000</td>\n",
       "    </tr>\n",
       "    <tr>\n",
       "      <th>25%</th>\n",
       "      <td>-121.800000</td>\n",
       "      <td>33.930000</td>\n",
       "      <td>18.000000</td>\n",
       "      <td>1447.750000</td>\n",
       "      <td>296.000000</td>\n",
       "      <td>787.000000</td>\n",
       "      <td>280.000000</td>\n",
       "      <td>2.563400</td>\n",
       "      <td>119600.000000</td>\n",
       "    </tr>\n",
       "    <tr>\n",
       "      <th>50%</th>\n",
       "      <td>-118.490000</td>\n",
       "      <td>34.260000</td>\n",
       "      <td>29.000000</td>\n",
       "      <td>2127.000000</td>\n",
       "      <td>435.000000</td>\n",
       "      <td>1166.000000</td>\n",
       "      <td>409.000000</td>\n",
       "      <td>3.534800</td>\n",
       "      <td>179700.000000</td>\n",
       "    </tr>\n",
       "    <tr>\n",
       "      <th>75%</th>\n",
       "      <td>-118.010000</td>\n",
       "      <td>37.710000</td>\n",
       "      <td>37.000000</td>\n",
       "      <td>3148.000000</td>\n",
       "      <td>647.000000</td>\n",
       "      <td>1725.000000</td>\n",
       "      <td>605.000000</td>\n",
       "      <td>4.743250</td>\n",
       "      <td>264725.000000</td>\n",
       "    </tr>\n",
       "    <tr>\n",
       "      <th>max</th>\n",
       "      <td>-114.310000</td>\n",
       "      <td>41.950000</td>\n",
       "      <td>52.000000</td>\n",
       "      <td>39320.000000</td>\n",
       "      <td>6445.000000</td>\n",
       "      <td>35682.000000</td>\n",
       "      <td>6082.000000</td>\n",
       "      <td>15.000100</td>\n",
       "      <td>500001.000000</td>\n",
       "    </tr>\n",
       "  </tbody>\n",
       "</table>\n",
       "</div>"
      ],
      "text/plain": [
       "          longitude      latitude  housing_median_age   total_rooms  \\\n",
       "count  20640.000000  20640.000000        20640.000000  20640.000000   \n",
       "mean    -119.569704     35.631861           28.639486   2635.763081   \n",
       "std        2.003532      2.135952           12.585558   2181.615252   \n",
       "min     -124.350000     32.540000            1.000000      2.000000   \n",
       "25%     -121.800000     33.930000           18.000000   1447.750000   \n",
       "50%     -118.490000     34.260000           29.000000   2127.000000   \n",
       "75%     -118.010000     37.710000           37.000000   3148.000000   \n",
       "max     -114.310000     41.950000           52.000000  39320.000000   \n",
       "\n",
       "       total_bedrooms    population    households  median_income  \\\n",
       "count    20433.000000  20640.000000  20640.000000   20640.000000   \n",
       "mean       537.870553   1425.476744    499.539680       3.870671   \n",
       "std        421.385070   1132.462122    382.329753       1.899822   \n",
       "min          1.000000      3.000000      1.000000       0.499900   \n",
       "25%        296.000000    787.000000    280.000000       2.563400   \n",
       "50%        435.000000   1166.000000    409.000000       3.534800   \n",
       "75%        647.000000   1725.000000    605.000000       4.743250   \n",
       "max       6445.000000  35682.000000   6082.000000      15.000100   \n",
       "\n",
       "       median_house_value  \n",
       "count        20640.000000  \n",
       "mean        206855.816909  \n",
       "std         115395.615874  \n",
       "min          14999.000000  \n",
       "25%         119600.000000  \n",
       "50%         179700.000000  \n",
       "75%         264725.000000  \n",
       "max         500001.000000  "
      ]
     },
     "execution_count": 8,
     "metadata": {},
     "output_type": "execute_result"
    }
   ],
   "source": [
    "# Use .describe() to see metrics about the dataset (count, mean, std, min, 25%, 50%, 75%, max)\n",
    "# Count is the count of non-null observations (i.e. rows)\n",
    "# Mean is the average of values for the given column\n",
    "# Std is standard deviation - how far off from the mean the values are\n",
    "# Min is the minimum amount of the value\n",
    "# 25% is the 25th percentile \n",
    "# 50% is the 50th percentile\n",
    "# 75% is the 75th percentile\n",
    "# max is the maximum amount of the value\n",
    "housing_df.describe()"
   ]
  },
  {
   "cell_type": "markdown",
   "id": "3bda11c2-53cc-43df-bbe5-ce2f8a6317fb",
   "metadata": {},
   "source": [
    "# Prepare & Preprocess Data via Pipelines"
   ]
  },
  {
   "cell_type": "code",
   "execution_count": null,
   "id": "79fe5916",
   "metadata": {},
   "outputs": [],
   "source": [
    "# Fix: Calculate cross-validation scores first\n",
    "from sklearn.model_selection import cross_val_score\n",
    "scores = cross_val_score(pipeline_lr, X_train, y_train, cv=5, scoring='r2')\n",
    "\n",
    "# Average of all the r2 scores across runs\n",
    "print(scores.mean())\n"
   ]
  },
  {
   "cell_type": "markdown",
   "id": "cad16fb8-f682-422f-b352-fe36073ad10d",
   "metadata": {},
   "source": [
    "### Understand missing data that could skew the model"
   ]
  },
  {
   "cell_type": "code",
   "execution_count": 9,
   "id": "70f8e8c1-e2dd-4935-a182-51699db1602a",
   "metadata": {},
   "outputs": [
    {
     "data": {
      "text/plain": [
       "longitude               0\n",
       "latitude                0\n",
       "housing_median_age      0\n",
       "total_rooms             0\n",
       "total_bedrooms        207\n",
       "population              0\n",
       "households              0\n",
       "median_income           0\n",
       "median_house_value      0\n",
       "ocean_proximity         0\n",
       "dtype: int64"
      ]
     },
     "execution_count": 9,
     "metadata": {},
     "output_type": "execute_result"
    }
   ],
   "source": [
    "# Verify which features have missing values\n",
    "housing_df.isnull().sum()"
   ]
  },
  {
   "cell_type": "code",
   "execution_count": 10,
   "id": "f9d4bac9-f30f-4e54-8ac5-97df8ba8355b",
   "metadata": {},
   "outputs": [
    {
     "data": {
      "text/plain": [
       "1.002906976744186"
      ]
     },
     "execution_count": 10,
     "metadata": {},
     "output_type": "execute_result"
    }
   ],
   "source": [
    "# Calculate the % of missing data\n",
    "housing_df['total_bedrooms'].isnull().sum()/housing_df.shape[0] * 100"
   ]
  },
  {
   "cell_type": "markdown",
   "id": "9e1f4a76-514f-4e6b-a5c4-7a8a7f173738",
   "metadata": {},
   "source": [
    "### Use imputation to handle missing data"
   ]
  },
  {
   "cell_type": "code",
   "execution_count": 11,
   "id": "1272f885-3e7e-4e86-961a-c95152a5df7a",
   "metadata": {},
   "outputs": [],
   "source": [
    "from sklearn.impute import KNNImputer\n",
    "\n",
    "# create a temporary copy of the dataset\n",
    "housing_df_temp = housing_df.copy()\n",
    "\n",
    "# retrieve columns with numerical data; will exclude the ocean_proximity column since the datatype is object; other columns are float64\n",
    "columns_list = [col for col in housing_df_temp.columns if housing_df_temp[col].dtype != 'object']\n",
    "\n",
    "# extract columns that contain at least one missing value\n",
    "new_column_list = [col for col in housing_df_temp.loc[:, housing_df_temp.isnull().any()]]\n",
    "\n",
    "# update temp dataframe with numeric columns that have empty values\n",
    "housing_df_temp = housing_df_temp[new_column_list]"
   ]
  },
  {
   "cell_type": "markdown",
   "id": "fd13d34f-4e41-4503-ad52-434da406e465",
   "metadata": {},
   "source": [
    "### Impute missing data using machine learning"
   ]
  },
  {
   "cell_type": "code",
   "execution_count": 12,
   "id": "aa1639dd-86e4-4f99-9cb9-f3f0bb70f6cb",
   "metadata": {},
   "outputs": [],
   "source": [
    "# initialize KNNImputer to impute missing data using machine learning\n",
    "knn = KNNImputer(n_neighbors = 3)\n",
    "\n",
    "# fit function trains the model \n",
    "knn.fit(housing_df_temp)\n",
    "\n",
    "# transform the data using the model\n",
    "# applies the transformation model (ie knn) to data\n",
    "array_Values = knn.transform(housing_df_temp)\n",
    "\n",
    "# convert the array values to a dataframe with the appropriate column names\n",
    "housing_df_temp = pd.DataFrame(array_Values, columns = new_column_list)"
   ]
  },
  {
   "cell_type": "code",
   "execution_count": 13,
   "id": "1085f8cf-e223-4c29-b2aa-668cfaa2ab4e",
   "metadata": {},
   "outputs": [
    {
     "data": {
      "text/plain": [
       "total_bedrooms    0\n",
       "dtype: int64"
      ]
     },
     "execution_count": 13,
     "metadata": {},
     "output_type": "execute_result"
    }
   ],
   "source": [
    "# confirm there are no columns with missing values\n",
    "housing_df_temp.isnull().sum()"
   ]
  },
  {
   "cell_type": "code",
   "execution_count": null,
   "id": "3e8730ed",
   "metadata": {},
   "outputs": [],
   "source": [
    "# Fix for the correlation matrix\n",
    "corr = housing_df_temp.corr()\n",
    "print(corr)\n"
   ]
  },
  {
   "cell_type": "code",
   "execution_count": 14,
   "id": "564ace1f-133e-41db-8836-8b845b95952c",
   "metadata": {},
   "outputs": [
    {
     "data": {
      "text/plain": [
       "longitude             0\n",
       "latitude              0\n",
       "housing_median_age    0\n",
       "total_rooms           0\n",
       "total_bedrooms        0\n",
       "population            0\n",
       "households            0\n",
       "median_income         0\n",
       "median_house_value    0\n",
       "ocean_proximity       0\n",
       "dtype: int64"
      ]
     },
     "execution_count": 14,
     "metadata": {},
     "output_type": "execute_result"
    }
   ],
   "source": [
    "# overlay the imputed column over the old column with missing values\n",
    "\n",
    "# loop through the list of columns and overlay each one\n",
    "for column_name in new_column_list:\n",
    "    housing_df[column_name] = housing_df_temp.replace(housing_df[column_name],housing_df[column_name])\n",
    "\n",
    "# confirm columns no longer contain null data\n",
    "housing_df.isnull().sum()"
   ]
  },
  {
   "cell_type": "markdown",
   "id": "174efa66-67ff-49aa-ac71-952384605392",
   "metadata": {},
   "source": [
    "## Use visualizations to understand the relationship of the target variable with other features"
   ]
  },
  {
   "cell_type": "markdown",
   "id": "d2e9be11-9745-481a-b5bb-eab30d327edb",
   "metadata": {},
   "source": [
    "#### Histograms"
   ]
  },
  {
   "cell_type": "code",
   "execution_count": 15,
   "id": "74ce420d-9933-4faa-b3ae-3ff99f527b28",
   "metadata": {},
   "outputs": [],
   "source": [
    "# initialize KNNImputer to impute missing data using machine learning\n",
    "knn = KNNImputer(n_neighbors = 3)\n",
    "\n",
    "# fit function trains the model \n",
    "knn.fit(housing_df_temp)\n",
    "\n",
    "plt.show()\n",
    "\n",
    "# We can see from the plot that the values of Median House Value are distributed normally with few outliers. \n",
    "# Most of the house are around 100,000-200,000 range"
   ]
  },
  {
   "cell_type": "code",
   "execution_count": 28,
   "id": "af1bc3b7-9d15-46ac-a796-c0c1275a8b17",
   "metadata": {},
   "outputs": [
    {
     "data": {
      "text/plain": [
       "array([[<Axes: title={'center': 'longitude'}>,\n",
       "        <Axes: title={'center': 'latitude'}>,\n",
       "        <Axes: title={'center': 'housing_median_age'}>],\n",
       "       [<Axes: title={'center': 'total_rooms'}>,\n",
       "        <Axes: title={'center': 'total_bedrooms'}>,\n",
       "        <Axes: title={'center': 'population'}>],\n",
       "       [<Axes: title={'center': 'households'}>,\n",
       "        <Axes: title={'center': 'median_income'}>,\n",
       "        <Axes: title={'center': 'median_house_value'}>]], dtype=object)"
      ]
     },
     "execution_count": 28,
     "metadata": {},
     "output_type": "execute_result"
    }
   ],
   "source": [
    "# let's do histograms for the all the features to understand the data distributions\n",
    "# using housing_df as to not plot the encoded values for OCEAN_PROXIMITY \n",
    "housing_df.hist(bins=50, figsize=(20,15))"
   ]
  },
  {
   "cell_type": "markdown",
   "id": "83ae2f7f-477a-4160-9bbb-66f2c20e0fb0",
   "metadata": {},
   "source": [
    "#### Use a heatmap to show correlation"
   ]
  },
  {
   "cell_type": "code",
   "execution_count": 27,
   "id": "94a06cae-8e05-48db-a20f-78e9a74af526",
   "metadata": {},
   "outputs": [
    {
     "name": "stdout",
     "output_type": "stream",
     "text": [
      "                    longitude  latitude  housing_median_age  total_rooms  \\\n",
      "longitude            1.000000 -0.924664           -0.108197     0.044568   \n",
      "latitude            -0.924664  1.000000            0.011173    -0.036100   \n",
      "housing_median_age  -0.108197  0.011173            1.000000    -0.361262   \n",
      "total_rooms          0.044568 -0.036100           -0.361262     1.000000   \n",
      "total_bedrooms       0.069260 -0.066658           -0.318998     0.927253   \n",
      "population           0.099773 -0.108785           -0.296244     0.857126   \n",
      "households           0.055310 -0.071035           -0.302916     0.918484   \n",
      "median_income       -0.015176 -0.079809           -0.119034     0.198050   \n",
      "median_house_value  -0.045967 -0.144160            0.105623     0.134153   \n",
      "\n",
      "                    total_bedrooms  population  households  median_income  \\\n",
      "longitude                 0.069260    0.099773    0.055310      -0.015176   \n",
      "latitude                 -0.066658   -0.108785   -0.071035      -0.079809   \n",
      "housing_median_age       -0.318998   -0.296244   -0.302916      -0.119034   \n",
      "total_rooms               0.927253    0.857126    0.918484       0.198050   \n",
      "total_bedrooms            1.000000    0.873910    0.974725      -0.007682   \n",
      "population                0.873910    1.000000    0.907222       0.004834   \n",
      "households                0.974725    0.907222    1.000000       0.013033   \n",
      "median_income            -0.007682    0.004834    0.013033       1.000000   \n",
      "median_house_value        0.049454   -0.024650    0.065843       0.688075   \n",
      "\n",
      "                    median_house_value  \n",
      "longitude                    -0.045967  \n",
      "latitude                     -0.144160  \n",
      "housing_median_age            0.105623  \n",
      "total_rooms                   0.134153  \n",
      "total_bedrooms                0.049454  \n",
      "population                   -0.024650  \n",
      "households                    0.065843  \n",
      "median_income                 0.688075  \n",
      "median_house_value            1.000000  \n"
     ]
    }
   ],
   "source": [
    "# Plot a graphical correlation matrix for each pair of columns in the dataframe\n",
    "corr = housing_df.corr(numeric_only=True) # data frame correlation function\n",
    "print(corr)\n"
   ]
  },
  {
   "cell_type": "code",
   "execution_count": 30,
   "id": "3ac2ed86-90fd-43ab-b18f-ae99d2d1341d",
   "metadata": {},
   "outputs": [
    {
     "data": {
      "image/png": "[encoded data removed]",
      "text/plain": [
       "<Figure size 800x800 with 2 Axes>"
      ]
     },
     "metadata": {},
     "output_type": "display_data"
    }
   ],
   "source": [
    "# make the heatmap larger in size\n",
    "plt.figure(figsize = (8,8))\n",
    "\n",
    "sns.heatmap(corr, annot=True)\n",
    "plt.show()"
   ]
  },
  {
   "cell_type": "markdown",
   "id": "7ef111a5-f2f7-4db5-9a74-16776813b6e0",
   "metadata": {},
   "source": [
    "##### Feature Engineering"
   ]
  },
  {
   "cell_type": "code",
   "execution_count": 31,
   "id": "b1c4dde8-d8e6-4621-aeb6-7b7c039dc0f3",
   "metadata": {},
   "outputs": [
    {
     "name": "stdout",
     "output_type": "stream",
     "text": [
      "<class 'pandas.core.frame.DataFrame'>\n",
      "RangeIndex: 20640 entries, 0 to 20639\n",
      "Data columns (total 14 columns):\n",
      " #   Column                    Non-Null Count  Dtype  \n",
      "---  ------                    --------------  -----  \n",
      " 0   longitude                 20640 non-null  float64\n",
      " 1   latitude                  20640 non-null  float64\n",
      " 2   housing_median_age        20640 non-null  float64\n",
      " 3   total_rooms               20640 non-null  float64\n",
      " 4   total_bedrooms            20640 non-null  float64\n",
      " 5   population                20640 non-null  float64\n",
      " 6   households                20640 non-null  float64\n",
      " 7   median_income             20640 non-null  float64\n",
      " 8   median_house_value        20640 non-null  float64\n",
      " 9   ocean_proximity           20640 non-null  object \n",
      " 10  rooms_per_household       20640 non-null  float64\n",
      " 11  bedrooms_per_room         20640 non-null  float64\n",
      " 12  population_per_household  20640 non-null  float64\n",
      " 13  coords                    20640 non-null  float64\n",
      "dtypes: float64(13), object(1)\n",
      "memory usage: 2.2+ MB\n"
     ]
    }
   ],
   "source": [
    "# Additionally we noted that several features (total_rooms,total_bedrooms,population,households) have very high correlation to one another, \n",
    "# so it's interesting to find out if a removal of a few of them would have any affect on the model performance\n",
    "\n",
    "#  a new feature that is a ratio of the total rooms to households\n",
    "housing_df['rooms_per_household'] = housing_df['total_rooms']/housing_df['households']\n",
    "\n",
    "# a new feature that is a ratio of the total bedrooms to the total rooms \n",
    "housing_df['bedrooms_per_room'] = housing_df['total_bedrooms']/housing_df['total_rooms']\n",
    "\n",
    "# a new feature that is a ratio of the population to the households \n",
    "housing_df['population_per_household']= housing_df['population']/housing_df['households']\n",
    "\n",
    "# let's combine the latitude and longitude into 1\n",
    "housing_df['coords'] = housing_df['longitude']/housing_df['latitude']\n",
    "\n",
    "housing_df.info()"
   ]
  },
  {
   "cell_type": "code",
   "execution_count": 32,
   "id": "9f94582a-901f-4729-9e5b-d8fa027b8e74",
   "metadata": {},
   "outputs": [
    {
     "name": "stdout",
     "output_type": "stream",
     "text": [
      "<class 'pandas.core.frame.DataFrame'>\n",
      "RangeIndex: 20640 entries, 0 to 20639\n",
      "Data columns (total 8 columns):\n",
      " #   Column                    Non-Null Count  Dtype  \n",
      "---  ------                    --------------  -----  \n",
      " 0   housing_median_age        20640 non-null  float64\n",
      " 1   median_income             20640 non-null  float64\n",
      " 2   median_house_value        20640 non-null  float64\n",
      " 3   ocean_proximity           20640 non-null  object \n",
      " 4   rooms_per_household       20640 non-null  float64\n",
      " 5   bedrooms_per_room         20640 non-null  float64\n",
      " 6   population_per_household  20640 non-null  float64\n",
      " 7   coords                    20640 non-null  float64\n",
      "dtypes: float64(7), object(1)\n",
      "memory usage: 1.3+ MB\n"
     ]
    }
   ],
   "source": [
    "# remove total_rooms, households, total bedrooms, popluation, longitude, latitude\n",
    "housing_df = housing_df.drop('total_rooms', axis=1)\n",
    "housing_df = housing_df.drop('households', axis=1)\n",
    "housing_df = housing_df.drop('total_bedrooms', axis=1)\n",
    "housing_df = housing_df.drop('population', axis=1)\n",
    "housing_df = housing_df.drop('longitude', axis=1)\n",
    "housing_df = housing_df.drop('latitude', axis=1)\n",
    "\n",
    "housing_df.info()"
   ]
  },
  {
   "cell_type": "markdown",
   "id": "d6f5d86a-289d-46e3-b12b-1f87c4fe2314",
   "metadata": {},
   "source": [
    "##### Heatmap after removing correlation"
   ]
  },
  {
   "cell_type": "code",
   "execution_count": 33,
   "id": "a2638134-616c-4ad2-8884-76961aeae59e",
   "metadata": {},
   "outputs": [
    {
     "data": {
      "image/png": "[encoded data removed]",
      "text/plain": [
       "<Figure size 700x700 with 2 Axes>"
      ]
     },
     "metadata": {},
     "output_type": "display_data"
    }
   ],
   "source": [
    "corr = housing_df.corr(numeric_only=True) \n",
    "\n",
    "#make the heatmap larger in size\n",
    "plt.figure(figsize = (7,7))\n",
    "\n",
    "sns.heatmap(corr, annot=True)\n",
    "plt.show()"
   ]
  },
  {
   "cell_type": "markdown",
   "id": "f4137895-007b-4fb1-8728-8792928f53cf",
   "metadata": {},
   "source": [
    "## Encode categorical data"
   ]
  },
  {
   "cell_type": "code",
   "execution_count": 34,
   "id": "3a712bde-01c2-4f43-90fb-b1aabb67f3d4",
   "metadata": {},
   "outputs": [
    {
     "name": "stdout",
     "output_type": "stream",
     "text": [
      "<class 'pandas.core.frame.DataFrame'>\n",
      "RangeIndex: 20640 entries, 0 to 20639\n",
      "Data columns (total 8 columns):\n",
      " #   Column                    Non-Null Count  Dtype  \n",
      "---  ------                    --------------  -----  \n",
      " 0   housing_median_age        20640 non-null  float64\n",
      " 1   median_income             20640 non-null  float64\n",
      " 2   median_house_value        20640 non-null  float64\n",
      " 3   ocean_proximity           20640 non-null  object \n",
      " 4   rooms_per_household       20640 non-null  float64\n",
      " 5   bedrooms_per_room         20640 non-null  float64\n",
      " 6   population_per_household  20640 non-null  float64\n",
      " 7   coords                    20640 non-null  float64\n",
      "dtypes: float64(7), object(1)\n",
      "memory usage: 1.3+ MB\n"
     ]
    }
   ],
   "source": [
    "# Most ML algorithms can only learn from numeric data (it's all Math) so categorical data must be encoded (i.e. converted) to numeric data\n",
    "\n",
    "# Let's review our data types again; showing that ocean_proximity is the only categorical data\n",
    "housing_df.info()"
   ]
  },
  {
   "cell_type": "code",
   "execution_count": 35,
   "id": "df289acf-5df4-4ae2-a809-ac84983d0fe6",
   "metadata": {},
   "outputs": [
    {
     "data": {
      "text/plain": [
       "array(['NEAR BAY', '<1H OCEAN', 'INLAND', 'NEAR OCEAN', 'ISLAND'],\n",
       "      dtype=object)"
      ]
     },
     "execution_count": 35,
     "metadata": {},
     "output_type": "execute_result"
    }
   ],
   "source": [
    "# let's see the unique categories for OCEAN_PROXIMITY\n",
    "housing_df.ocean_proximity.unique()"
   ]
  },
  {
   "cell_type": "code",
   "execution_count": 36,
   "id": "e9b33eb2-c363-4993-97fc-81b9273c0720",
   "metadata": {},
   "outputs": [
    {
     "data": {
      "text/plain": [
       "ocean_proximity\n",
       "<1H OCEAN     9136\n",
       "INLAND        6551\n",
       "NEAR OCEAN    2658\n",
       "NEAR BAY      2290\n",
       "ISLAND           5\n",
       "Name: count, dtype: int64"
      ]
     },
     "execution_count": 36,
     "metadata": {},
     "output_type": "execute_result"
    }
   ],
   "source": [
    "# let's count\n",
    "housing_df[\"ocean_proximity\"].value_counts()"
   ]
  },
  {
   "cell_type": "markdown",
   "id": "0aa7f116-8d10-4cc2-8279-322bbd99d4c5",
   "metadata": {},
   "source": [
    "### One-Hot Encoding"
   ]
  },
  {
   "cell_type": "code",
   "execution_count": 37,
   "id": "85cda782-10c2-4c1f-bc1a-1bd88ffb9e80",
   "metadata": {},
   "outputs": [
    {
     "name": "stdout",
     "output_type": "stream",
     "text": [
      "       <1H OCEAN  INLAND  ISLAND  NEAR BAY  NEAR OCEAN\n",
      "0          False   False   False      True       False\n",
      "1          False   False   False      True       False\n",
      "2          False   False   False      True       False\n",
      "3          False   False   False      True       False\n",
      "4          False   False   False      True       False\n",
      "...          ...     ...     ...       ...         ...\n",
      "20635      False    True   False     False       False\n",
      "20636      False    True   False     False       False\n",
      "20637      False    True   False     False       False\n",
      "20638      False    True   False     False       False\n",
      "20639      False    True   False     False       False\n",
      "\n",
      "[20640 rows x 5 columns]\n"
     ]
    }
   ],
   "source": [
    "# Let's see how the Panda's get_dummies() function works\n",
    "print(pd.get_dummies(housing_df['ocean_proximity']))"
   ]
  },
  {
   "cell_type": "code",
   "execution_count": 38,
   "id": "577d2024-a562-48dd-92b5-06eb2bc4ac76",
   "metadata": {},
   "outputs": [
    {
     "data": {
      "text/html": [
       "<div>\n",
       "<style scoped>\n",
       "    .dataframe tbody tr th:only-of-type {\n",
       "        vertical-align: middle;\n",
       "    }\n",
       "\n",
       "    .dataframe tbody tr th {\n",
       "        vertical-align: top;\n",
       "    }\n",
       "\n",
       "    .dataframe thead th {\n",
       "        text-align: right;\n",
       "    }\n",
       "</style>\n",
       "<table border=\"1\" class=\"dataframe\">\n",
       "  <thead>\n",
       "    <tr style=\"text-align: right;\">\n",
       "      <th></th>\n",
       "      <th>housing_median_age</th>\n",
       "      <th>median_income</th>\n",
       "      <th>median_house_value</th>\n",
       "      <th>rooms_per_household</th>\n",
       "      <th>bedrooms_per_room</th>\n",
       "      <th>population_per_household</th>\n",
       "      <th>coords</th>\n",
       "      <th>ocean_proximity_&lt;1H OCEAN</th>\n",
       "      <th>ocean_proximity_INLAND</th>\n",
       "      <th>ocean_proximity_ISLAND</th>\n",
       "      <th>ocean_proximity_NEAR BAY</th>\n",
       "      <th>ocean_proximity_NEAR OCEAN</th>\n",
       "    </tr>\n",
       "  </thead>\n",
       "  <tbody>\n",
       "    <tr>\n",
       "      <th>0</th>\n",
       "      <td>41.0</td>\n",
       "      <td>8.3252</td>\n",
       "      <td>452600.0</td>\n",
       "      <td>6.984127</td>\n",
       "      <td>0.146591</td>\n",
       "      <td>2.555556</td>\n",
       "      <td>-3.226769</td>\n",
       "      <td>False</td>\n",
       "      <td>False</td>\n",
       "      <td>False</td>\n",
       "      <td>True</td>\n",
       "      <td>False</td>\n",
       "    </tr>\n",
       "    <tr>\n",
       "      <th>1</th>\n",
       "      <td>21.0</td>\n",
       "      <td>8.3014</td>\n",
       "      <td>358500.0</td>\n",
       "      <td>6.238137</td>\n",
       "      <td>0.155797</td>\n",
       "      <td>2.109842</td>\n",
       "      <td>-3.228209</td>\n",
       "      <td>False</td>\n",
       "      <td>False</td>\n",
       "      <td>False</td>\n",
       "      <td>True</td>\n",
       "      <td>False</td>\n",
       "    </tr>\n",
       "    <tr>\n",
       "      <th>2</th>\n",
       "      <td>52.0</td>\n",
       "      <td>7.2574</td>\n",
       "      <td>352100.0</td>\n",
       "      <td>8.288136</td>\n",
       "      <td>0.129516</td>\n",
       "      <td>2.802260</td>\n",
       "      <td>-3.229590</td>\n",
       "      <td>False</td>\n",
       "      <td>False</td>\n",
       "      <td>False</td>\n",
       "      <td>True</td>\n",
       "      <td>False</td>\n",
       "    </tr>\n",
       "    <tr>\n",
       "      <th>3</th>\n",
       "      <td>52.0</td>\n",
       "      <td>5.6431</td>\n",
       "      <td>341300.0</td>\n",
       "      <td>5.817352</td>\n",
       "      <td>0.184458</td>\n",
       "      <td>2.547945</td>\n",
       "      <td>-3.229855</td>\n",
       "      <td>False</td>\n",
       "      <td>False</td>\n",
       "      <td>False</td>\n",
       "      <td>True</td>\n",
       "      <td>False</td>\n",
       "    </tr>\n",
       "    <tr>\n",
       "      <th>4</th>\n",
       "      <td>52.0</td>\n",
       "      <td>3.8462</td>\n",
       "      <td>342200.0</td>\n",
       "      <td>6.281853</td>\n",
       "      <td>0.172096</td>\n",
       "      <td>2.181467</td>\n",
       "      <td>-3.229855</td>\n",
       "      <td>False</td>\n",
       "      <td>False</td>\n",
       "      <td>False</td>\n",
       "      <td>True</td>\n",
       "      <td>False</td>\n",
       "    </tr>\n",
       "  </tbody>\n",
       "</table>\n",
       "</div>"
      ],
      "text/plain": [
       "   housing_median_age  median_income  median_house_value  rooms_per_household  \\\n",
       "0                41.0         8.3252            452600.0             6.984127   \n",
       "1                21.0         8.3014            358500.0             6.238137   \n",
       "2                52.0         7.2574            352100.0             8.288136   \n",
       "3                52.0         5.6431            341300.0             5.817352   \n",
       "4                52.0         3.8462            342200.0             6.281853   \n",
       "\n",
       "   bedrooms_per_room  population_per_household    coords  \\\n",
       "0           0.146591                  2.555556 -3.226769   \n",
       "1           0.155797                  2.109842 -3.228209   \n",
       "2           0.129516                  2.802260 -3.229590   \n",
       "3           0.184458                  2.547945 -3.229855   \n",
       "4           0.172096                  2.181467 -3.229855   \n",
       "\n",
       "   ocean_proximity_<1H OCEAN  ocean_proximity_INLAND  ocean_proximity_ISLAND  \\\n",
       "0                      False                   False                   False   \n",
       "1                      False                   False                   False   \n",
       "2                      False                   False                   False   \n",
       "3                      False                   False                   False   \n",
       "4                      False                   False                   False   \n",
       "\n",
       "   ocean_proximity_NEAR BAY  ocean_proximity_NEAR OCEAN  \n",
       "0                      True                       False  \n",
       "1                      True                       False  \n",
       "2                      True                       False  \n",
       "3                      True                       False  \n",
       "4                      True                       False  "
      ]
     },
     "execution_count": 38,
     "metadata": {},
     "output_type": "execute_result"
    }
   ],
   "source": [
    "# let's replace the OCEAN_PROXIMITY column using get_dummies()\n",
    "housing_df_encoded = pd.get_dummies(data=housing_df, columns=['ocean_proximity'])\n",
    "\n",
    "# print the first few observations; notice the old OCEAN_PROXIMITY column is gone\n",
    "housing_df_encoded.head()"
   ]
  },
  {
   "cell_type": "markdown",
   "id": "a37ea4cc-ca9c-4819-bdf5-83fcb2413385",
   "metadata": {},
   "source": [
    "## Train the model"
   ]
  },
  {
   "cell_type": "code",
   "execution_count": 39,
   "id": "b988badf-4961-40e2-8d22-9fda6fcc44ef",
   "metadata": {},
   "outputs": [
    {
     "name": "stdout",
     "output_type": "stream",
     "text": [
      "       housing_median_age  median_income  bedrooms_per_room  \\\n",
      "0                    41.0         8.3252           0.146591   \n",
      "1                    21.0         8.3014           0.155797   \n",
      "2                    52.0         7.2574           0.129516   \n",
      "3                    52.0         5.6431           0.184458   \n",
      "4                    52.0         3.8462           0.172096   \n",
      "...                   ...            ...                ...   \n",
      "20635                25.0         1.5603           0.224625   \n",
      "20636                18.0         2.5568           0.215208   \n",
      "20637                17.0         1.7000           0.215173   \n",
      "20638                18.0         1.8672           0.219892   \n",
      "20639                16.0         2.3886           0.221185   \n",
      "\n",
      "       population_per_household    coords  ocean_proximity__1h_ocean  \\\n",
      "0                      2.555556 -3.226769                      False   \n",
      "1                      2.109842 -3.228209                      False   \n",
      "2                      2.802260 -3.229590                      False   \n",
      "3                      2.547945 -3.229855                      False   \n",
      "4                      2.181467 -3.229855                      False   \n",
      "...                         ...       ...                        ...   \n",
      "20635                  2.560606 -3.067123                      False   \n",
      "20636                  3.122807 -3.069385                      False   \n",
      "20637                  2.325635 -3.074309                      False   \n",
      "20638                  2.123209 -3.076845                      False   \n",
      "20639                  2.616981 -3.079502                      False   \n",
      "\n",
      "       ocean_proximity_inland  ocean_proximity_island  \\\n",
      "0                       False                   False   \n",
      "1                       False                   False   \n",
      "2                       False                   False   \n",
      "3                       False                   False   \n",
      "4                       False                   False   \n",
      "...                       ...                     ...   \n",
      "20635                    True                   False   \n",
      "20636                    True                   False   \n",
      "20637                    True                   False   \n",
      "20638                    True                   False   \n",
      "20639                    True                   False   \n",
      "\n",
      "       ocean_proximity_near_bay  ocean_proximity_near_ocean  \n",
      "0                          True                       False  \n",
      "1                          True                       False  \n",
      "2                          True                       False  \n",
      "3                          True                       False  \n",
      "4                          True                       False  \n",
      "...                         ...                         ...  \n",
      "20635                     False                       False  \n",
      "20636                     False                       False  \n",
      "20637                     False                       False  \n",
      "20638                     False                       False  \n",
      "20639                     False                       False  \n",
      "\n",
      "[20640 rows x 10 columns]\n"
     ]
    }
   ],
   "source": [
    "import sklearn\n",
    "from sklearn.model_selection import train_test_split\n",
    "\n",
    "# remove spaces from column names and convert all to lowercase and remove special characters as it could cause issues in the future\n",
    "housing_df_encoded.columns = [c.lower().replace(' ', '_').replace('<', '_') for c in housing_df_encoded.columns]\n",
    "\n",
    "# Split target variable and feature variables\n",
    "X = housing_df_encoded[['housing_median_age', 'median_income','bedrooms_per_room','population_per_household','coords','ocean_proximity__1h_ocean',\n",
    "                        'ocean_proximity_inland','ocean_proximity_island','ocean_proximity_near_bay','ocean_proximity_near_ocean']]\n",
    "y = housing_df_encoded['median_house_value']\n",
    "\n",
    "print(X)"
   ]
  },
  {
   "cell_type": "markdown",
   "id": "03aed0f6-6014-49e5-a36d-7216c02bc28a",
   "metadata": {},
   "source": [
    "### Split training & test data"
   ]
  },
  {
   "cell_type": "code",
   "execution_count": 40,
   "id": "88db92d2-e9b3-4651-8602-cc18619ff409",
   "metadata": {},
   "outputs": [
    {
     "name": "stdout",
     "output_type": "stream",
     "text": [
      "(14448, 10)\n",
      "(6192, 10)\n",
      "(14448,)\n",
      "(6192,)\n"
     ]
    }
   ],
   "source": [
    "# Splitting the data into training and testing sets in numpy arrays\n",
    "# We train the model with 70% of the samples and test with the remaining 30%\n",
    "# X -> array with the inputs; y -> array of the outputs\n",
    "X_train, X_test, y_train, y_test = train_test_split(X, y, random_state=42, shuffle=True, test_size=0.3)\n",
    "\n",
    "# Confirm how the data was split\n",
    "print(X_train.shape)\n",
    "print(X_test.shape)\n",
    "print(y_train.shape)\n",
    "print(y_test.shape)"
   ]
  },
  {
   "cell_type": "markdown",
   "id": "d80fa3a6-6d44-48db-b3b9-111478b34876",
   "metadata": {},
   "source": [
    "# Train the model in parallel using a Pipeline\n",
    "This code stacks multple pipelines to find the model with the best accuracy "
   ]
  },
  {
   "cell_type": "code",
   "execution_count": 41,
   "id": "0d0dab45-7a1c-470d-90e6-7e861b718099",
   "metadata": {},
   "outputs": [
    {
     "name": "stdout",
     "output_type": "stream",
     "text": [
      "Linear Regression Test Accuracy:0.561589765980682\n",
      "         Actual      Predicted\n",
      "20046   47700.0  103743.050896\n",
      "3024    45800.0   92451.250932\n",
      "15663  500001.0  219490.963844\n",
      "20484  218600.0  283292.425471\n",
      "9814   278000.0  244228.861575\n",
      "...         ...            ...\n",
      "17505  237500.0  210121.340663\n",
      "13512   67300.0   74907.098235\n",
      "10842  218400.0  216609.962950\n",
      "16559  119400.0  127975.072923\n",
      "5786   209800.0  202803.254310\n",
      "\n",
      "[6192 rows x 2 columns]\n",
      "Random Forest Regressor Test Accuracy:0.7499472455943947\n",
      "         Actual  Predicted\n",
      "20046   47700.0    47840.0\n",
      "3024    45800.0    92680.0\n",
      "15663  500001.0   446000.5\n",
      "20484  218600.0   265320.0\n",
      "9814   278000.0   240800.0\n",
      "...         ...        ...\n",
      "17505  237500.0   231680.1\n",
      "13512   67300.0    69680.0\n",
      "10842  218400.0   203930.0\n",
      "16559  119400.0   126170.0\n",
      "5786   209800.0   198160.0\n",
      "\n",
      "[6192 rows x 2 columns]\n",
      "XGBRegressor Test Accuracy:0.7760252030846948\n",
      "         Actual      Predicted\n",
      "20046   47700.0   66404.914062\n",
      "3024    45800.0   86681.765625\n",
      "15663  500001.0  449666.093750\n",
      "20484  218600.0  262887.281250\n",
      "9814   278000.0  218322.796875\n",
      "...         ...            ...\n",
      "17505  237500.0  227466.500000\n",
      "13512   67300.0   64712.433594\n",
      "10842  218400.0  218226.109375\n",
      "16559  119400.0  123181.968750\n",
      "5786   209800.0  227016.828125\n",
      "\n",
      "[6192 rows x 2 columns]\n"
     ]
    }
   ],
   "source": [
    "# Pipelines\n",
    "\n",
    "# Import pipeline code\n",
    "from sklearn.pipeline import Pipeline\n",
    "from sklearn.linear_model import LinearRegression\n",
    "from sklearn.ensemble import RandomForestRegressor\n",
    "from xgboost import XGBRegressor\n",
    "\n",
    "\n",
    "pipeline_lr= Pipeline([('lr_classifier', LinearRegression())])\n",
    "pipeline_rf = Pipeline([('rf_classifier', RandomForestRegressor(n_estimators=10,random_state=10))]) \n",
    "pipeline_xgb = Pipeline([('xgb_classifier', XGBRegressor())]) \n",
    "\n",
    "pipelines = [pipeline_lr, pipeline_rf, pipeline_xgb]\n",
    "pipe_dict = {0: 'Linear Regression', 1: 'Random Forest Regressor', 2: 'XGBRegressor'}\n",
    "\n",
    "for pipe in pipelines:\n",
    "    pipe.fit(X_train, y_train)\n",
    "\n",
    "for i,model in enumerate(pipelines):\n",
    "    pred_test = model.predict(X_test)\n",
    "    if i == 1: rf_model = model\n",
    "    print(\"{} Test Accuracy:{}\".format(pipe_dict[i],model.score(X_test,y_test)))\n",
    "    print(pd.DataFrame({'Actual': y_test, 'Predicted': pred_test}))\n"
   ]
  },
  {
   "cell_type": "markdown",
   "id": "d30e865e-e072-4212-8735-b8d503dea5cc",
   "metadata": {},
   "source": [
    "# Determine Feature Importance"
   ]
  },
  {
   "cell_type": "code",
   "execution_count": null,
   "id": "ad910ca1-383d-4502-9ef2-5e87366c22cd",
   "metadata": {},
   "outputs": [],
   "source": [
    "# Determine feature importance - random forest algorithm is that it gives you the ‘feature importance’ for all the variables in the data\n",
    "# plot the 5 most important features \n",
    "plt.figure(figsize=(10,5))\n",
    "feat_importances = pd.Series(rf_model['rf_classifier'].feature_importances_, index = X_train.columns)\n",
    "feat_importances.nlargest(5).plot(kind='barh');"
   ]
  },
  {
   "cell_type": "markdown",
   "id": "3c2d7b27-b193-47eb-91e0-19ed7a6737bf",
   "metadata": {},
   "source": [
    "Now, we are going to train the same random forest model using these 5 features only and observe the change in RMSE values for the train and the validation set."
   ]
  },
  {
   "cell_type": "code",
   "execution_count": 52,
   "id": "e2fb7168-d51b-47c0-9e00-552c2fbbf769",
   "metadata": {},
   "outputs": [],
   "source": [
    "from sklearn.metrics import mean_squared_error\n",
    "\n",
    "# training data with 5 most important features\n",
    "train_x_if = X_train[['housing_median_age', 'coords', 'ocean_proximity_inland','population_per_household','median_income']]\n",
    "test_x_if = X_test[['housing_median_age', 'coords', 'ocean_proximity_inland','population_per_household','median_income']]\n",
    "\n",
    "# create an object of the RandfomForestRegressor Model\n",
    "rf_model_if = RandomForestRegressor(n_estimators=10,random_state=10)\n",
    "\n",
    "# fit the model with the training data\n",
    "rf_model_if.fit(train_x_if, y_train)\n",
    "\n",
    "# predict the target on the test data\n",
    "predict_test_with_if = rf_model_if.predict(test_x_if)"
   ]
  },
  {
   "cell_type": "code",
   "execution_count": 53,
   "id": "e79b953b-9a31-41a4-844d-9ec9b31a9d5f",
   "metadata": {},
   "outputs": [
    {
     "name": "stdout",
     "output_type": "stream",
     "text": [
      "RMSE on test data:  58293.258841820185\n"
     ]
    }
   ],
   "source": [
    "# Root Mean Squared Error on the train and test data\n",
    "print('RMSE on test data: ',  mean_squared_error(y_test, predict_test_with_if)**(0.5))"
   ]
  },
  {
   "cell_type": "markdown",
   "id": "49706f5e-3140-400b-b31e-307c73398238",
   "metadata": {},
   "source": [
    "## Cross Validation\n"
   ]
  },
  {
   "cell_type": "code",
   "execution_count": 62,
   "id": "de609af5-6f83-4a8b-9691-db81dc7e1117",
   "metadata": {},
   "outputs": [
    {
     "name": "stdout",
     "output_type": "stream",
     "text": [
      "0.6098568490464962\n"
     ]
    }
   ],
   "source": [
    "from sklearn.metrics import mean_squared_error\n",
    "from sklearn.model_selection import cross_val_score\n",
    "scores = cross_val_score(pipeline_lr, X_train, y_train, cv=5, scoring='r2')\n",
    "\n",
    "\n",
    "# training data with 5 most important features\n",
    "train_x_if = X_train[['housing_median_age', 'coords', 'ocean_proximity_inland','population_per_household','median_income']]\n",
    "test_x_if = X_test[['housing_median_age', 'coords', 'ocean_proximity_inland','population_per_household','median_income']]\n",
    "\n",
    "# fit the model with the training data\n",
    "rf_model_if.fit(train_x_if, y_train)\n",
    "\n",
    "\n",
    "# #average of all the r2 scores across runs\n",
    "print(scores.mean())"
   ]
  },
  {
   "cell_type": "markdown",
   "id": "80eef80b-aa3e-4600-a6d4-2abdb37d8769",
   "metadata": {},
   "source": [
    "# Challenge: Continue your learning by incorporating the commented code into your Pipeline."
   ]
  },
  {
   "cell_type": "markdown",
   "id": "47f8bf03-cead-43b8-a5cf-a599ab161546",
   "metadata": {},
   "source": [
    "## Hyperparameter Tuning\n",
    "\n",
    "Good hyperparameter values can be found by trial and error for a given dataset, or systematic experimentation such as using a grid \n",
    "search across a range of values."
   ]
  },
  {
   "cell_type": "code",
   "execution_count": null,
   "id": "99db52c9-dda9-4b62-a475-23817784e68a",
   "metadata": {},
   "outputs": [],
   "source": [
    "# determine hyperparameter available for tuning\n",
    "# xgb_model.get_params()"
   ]
  },
  {
   "cell_type": "code",
   "execution_count": null,
   "id": "e499df15-36fd-4b65-b628-f8f3bd27e2c8",
   "metadata": {
    "scrolled": true,
    "tags": []
   },
   "outputs": [],
   "source": [
    "# xgb_model_2 = XGBRegressor(\n",
    "#     gamma=0.05,\n",
    "#     learning_rate=0.01,\n",
    "#     max_depth=6,\n",
    "#     n_estimators=1000,\n",
    "#     n_jobs=16,\n",
    "#     objective='reg:squarederror',\n",
    "#     subsample=0.8,\n",
    "#     scale_pos_weight=0,\n",
    "#     reg_alpha=0,\n",
    "#     reg_lambda=1,\n",
    "#     verbosity=1)\n",
    "\n",
    "# xgb_model_2.fit(X_train, y_train)\n",
    "\n",
    "\n",
    "# #run the predictions on the training and testing data\n",
    "# y_xgb_2_pred_test = xgb_model_2.predict(X_test)"
   ]
  },
  {
   "cell_type": "code",
   "execution_count": null,
   "id": "b73c9f33-7a65-46c3-a8b0-47f50079b8cc",
   "metadata": {},
   "outputs": [],
   "source": [
    "# compare the actual values (ie, target) with the values predicted by the model\n",
    "# xgb_2_pred_test_df = pd.DataFrame({'Actual': y_test, 'Predicted': y_xgb_2_pred_test})\n",
    "\n",
    "# xgb_2_pred_test_df"
   ]
  },
  {
   "cell_type": "code",
   "execution_count": null,
   "id": "835ec23d-271d-4246-a688-e93b34c49581",
   "metadata": {},
   "outputs": [],
   "source": [
    "# fig= plt.figure(figsize=(8,8))\n",
    "# xgb_2_pred_test_df = xgb_2_pred_test_df.reset_index()\n",
    "# xgb_2_pred_test_df = xgb_2_pred_test_df.drop(['index'],axis=1)\n",
    "# plt.plot(xgb_2_pred_test_df[:50])\n",
    "# plt.legend(['Actual value','Predicted value'])"
   ]
  },
  {
   "cell_type": "code",
   "execution_count": null,
   "id": "2daa6e3b-a504-4b10-9d05-0bb752369953",
   "metadata": {},
   "outputs": [],
   "source": [
    "# from sklearn.metrics import mean_squared_error\n",
    "\n",
    "# mse = np.sqrt(mean_squared_error(y_test, y_xgb_2_pred_test))\n",
    "# print(\"RMSE: %.2f\" % (mse**(1/2.0)))"
   ]
  },
  {
   "cell_type": "code",
   "execution_count": null,
   "id": "9a0e6c8c-8253-4a94-990b-47e8f60c226f",
   "metadata": {},
   "outputs": [],
   "source": [
    "# Determine accuracy uisng 𝑅^2\n",
    "# r2_xgb_model_2_test = round(xgb_model_2.score(X_test, y_test),2)\n",
    "\n",
    "# print(\"R^2 Test: {}\".format(r2_xgb_model_2_test))"
   ]
  }
 ],
 "metadata": {
  "instance_type": "ml.t3.medium",
  "kernelspec": {
   "display_name": "base",
   "language": "python",
   "name": "python3"
  },
  "language_info": {
   "codemirror_mode": {
    "name": "ipython",
    "version": 3
   },
   "file_extension": ".py",
   "mimetype": "text/x-python",
   "name": "python",
   "nbconvert_exporter": "python",
   "pygments_lexer": "ipython3",
   "version": "3.12.3"
  }
 },
 "nbformat": 4,
 "nbformat_minor": 5
}
